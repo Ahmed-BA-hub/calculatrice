{
 "cells": [
  {
   "cell_type": "code",
   "execution_count": 5,
   "id": "d8dcca0e-98b9-44ea-aa1d-74e7a207e970",
   "metadata": {},
   "outputs": [],
   "source": [
    "def adiition(x,y):\n",
    "    return x+y"
   ]
  },
  {
   "cell_type": "code",
   "execution_count": null,
   "id": "42c45dcb-099f-4adf-a65c-28efd2c42216",
   "metadata": {},
   "outputs": [],
   "source": []
  }
 ],
 "metadata": {
  "kernelspec": {
   "display_name": "Python [conda env:base] *",
   "language": "python",
   "name": "conda-base-py"
  },
  "language_info": {
   "codemirror_mode": {
    "name": "ipython",
    "version": 3
   },
   "file_extension": ".py",
   "mimetype": "text/x-python",
   "name": "python",
   "nbconvert_exporter": "python",
   "pygments_lexer": "ipython3",
   "version": "3.12.7"
  }
 },
 "nbformat": 4,
 "nbformat_minor": 5
}
